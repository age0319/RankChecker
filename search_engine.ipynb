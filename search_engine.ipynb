{
 "cells": [
  {
   "cell_type": "code",
   "execution_count": 11,
   "metadata": {},
   "outputs": [],
   "source": [
    "import check_ranking\n",
    "from googlesearch import search\n",
    "import pandas as pd\n",
    "import os\n",
    "import datetime\n",
    "\n",
    "def search_term(query, target_site_domain,file_name):\n",
    "     ## 日本語のGoogle検索を行う。言語は日本語。１ページあたりの検索数は10個,50個検索して止める。\n",
    "    search_result_list = list(search(query, lang=\"jp\", num=10, stop=50, pause=1))\n",
    "    df = pd.DataFrame(search_result_list,columns=[\"urls\"])\n",
    "    \n",
    "    print(search_result_list)\n",
    "    \n",
    "    ## 重複を消す\n",
    "    clean_df = df[(~df.urls.str.contains(\"#\"))].reset_index()\n",
    "    \n",
    "    ## ドメインを検索\n",
    "    index = clean_df[clean_df.urls.str.contains(target_site_domain)].index.to_list() \n",
    "\n",
    "    ## インデックスに＋１をしてランキングにする\n",
    "    rank = [n + 1 for n in index]\n",
    "    \n",
    "    dt_now = datetime.datetime.now()\n",
    "    \n",
    "    data = pd.DataFrame({'SearchTerm': query,\n",
    "                           'Ranking': [rank],\n",
    "                           'Total': len(rank),\n",
    "                           'TargetSite': target_site_domain,\n",
    "                           'Date':dt_now\n",
    "                           }\n",
    "                          )\n",
    "    \n",
    "    if not os.path.exists(file_name):\n",
    "        df = pd.DataFrame()\n",
    "    else:\n",
    "        df = pd.read_pickle(file_name)\n",
    "    \n",
    "    df = df.append(data)\n",
    "    df.reset_index(drop=True,inplace=True)\n",
    "    print(df)\n",
    "    df.to_pickle(file_name)\n",
    "\n",
    "    return"
   ]
  },
  {
   "cell_type": "code",
   "execution_count": 8,
   "metadata": {},
   "outputs": [
    {
     "name": "stdout",
     "output_type": "stream",
     "text": [
      "           SearchTerm Ranking  Total   TargetSite                       Date\n",
      "0  opencv ラズパイ インストール     [4]      1  ymgsapo.com                        NaT\n",
      "1  opencv ラズパイ インストール  [1, 2]      2    qiita.com                        NaT\n",
      "2      python 画像　切り取り     [6]      1  ymgsapo.com                        NaT\n",
      "3  opencv ラズパイ インストール     [4]      1  ymgsapo.com 2020-05-08 21:15:00.270539\n"
     ]
    }
   ],
   "source": [
    "query = 'opencv ラズパイ インストール'\n",
    "target_site_domain = 'ymgsapo.com'\n",
    "file_name = 'ranking.pkl'\n",
    "\n",
    "search_term(query,target_site_domain,file_name)"
   ]
  },
  {
   "cell_type": "code",
   "execution_count": 5,
   "metadata": {},
   "outputs": [
    {
     "name": "stdout",
     "output_type": "stream",
     "text": [
      "           SearchTerm Ranking  Total   TargetSite\n",
      "0  opencv ラズパイ インストール     [4]      1  ymgsapo.com\n",
      "1  opencv ラズパイ インストール  [1, 2]      2    qiita.com\n"
     ]
    }
   ],
   "source": [
    "query = 'opencv ラズパイ インストール'\n",
    "target_site_domain = 'qiita.com'\n",
    "file_name = 'ranking.pkl'\n",
    "\n",
    "search_term(query,target_site_domain,file_name)"
   ]
  },
  {
   "cell_type": "code",
   "execution_count": 6,
   "metadata": {},
   "outputs": [
    {
     "name": "stdout",
     "output_type": "stream",
     "text": [
      "           SearchTerm Ranking  Total   TargetSite\n",
      "0  opencv ラズパイ インストール     [4]      1  ymgsapo.com\n",
      "1  opencv ラズパイ インストール  [1, 2]      2    qiita.com\n",
      "2      python 画像　切り取り     [6]      1  ymgsapo.com\n"
     ]
    }
   ],
   "source": [
    "query = 'python 画像　切り取り'\n",
    "target_site_domain = 'ymgsapo.com'\n",
    "file_name = 'ranking.pkl'\n",
    "\n",
    "search_term(query,target_site_domain,file_name)"
   ]
  },
  {
   "cell_type": "code",
   "execution_count": 9,
   "metadata": {},
   "outputs": [
    {
     "name": "stdout",
     "output_type": "stream",
     "text": [
      "           SearchTerm Ranking  Total   TargetSite                       Date\n",
      "0  opencv ラズパイ インストール     [4]      1  ymgsapo.com                        NaT\n",
      "1  opencv ラズパイ インストール  [1, 2]      2    qiita.com                        NaT\n",
      "2      python 画像　切り取り     [6]      1  ymgsapo.com                        NaT\n",
      "3  opencv ラズパイ インストール     [4]      1  ymgsapo.com 2020-05-08 21:15:00.270539\n",
      "4              python      []      0  ymgsapo.com 2020-05-08 21:17:53.730877\n"
     ]
    }
   ],
   "source": [
    "query = 'python'\n",
    "target_site_domain = 'ymgsapo.com'\n",
    "file_name = 'ranking.pkl'\n",
    "\n",
    "search_term(query,target_site_domain,file_name)"
   ]
  },
  {
   "cell_type": "code",
   "execution_count": 12,
   "metadata": {},
   "outputs": [
    {
     "name": "stdout",
     "output_type": "stream",
     "text": [
      "['https://www.triplecoe.com/entry/amazon-390yen', 'https://ymgsapo.com/2019/10/21/amazon-390yen/', 'https://www.amazon.co.jp/390%E5%86%86-%E3%83%87%E3%82%B8%E3%82%BF%E3%83%AB%E3%83%9F%E3%83%A5%E3%83%BC%E3%82%B8%E3%83%83%E3%82%AF/b?ie=UTF8&node=4048496051', 'https://www.amazon.co.jp/b?ie=UTF8&node=4138769051', 'https://www.amazon.co.jp/gp/help/customer/display.html?nodeId=201910360', 'https://www.amazon.co.jp/gp/help/customer/display.html?nodeId=G9SY6AQJV45JFMET', 'https://www.amazon.co.jp/gp/help/customer/display.html?nodeId=201910370', 'https://www.amazon.co.jp/gp/help/customer/display.html?nodeId=202094460', 'https://www.amazon.co.jp/gp/help/customer/display.html?nodeId=201910190', 'https://www.amazon.co.jp/Amazon%E3%83%95%E3%83%AC%E3%83%83%E3%82%B7%E3%83%A5-%E3%82%B5%E3%83%BC%E3%83%93%E3%82%B9%E3%81%AB%E3%81%A4%E3%81%84%E3%81%A6/b?ie=UTF8&node=4842098051', 'https://www.amazon.co.jp/gp/help/customer/display.html?nodeId=201895580', 'https://www.amazon.co.jp/gp/pantry/info', 'https://www.amazon.co.jp/gp/help/customer/display.html?nodeId=201910360&pop-up=1&_encoding=UTF8&tag=applebaka-22&linkCode=ur2&linkId=b3668191bb2b202e72ae93f14b2e63f3&camp=247&creative=1211', 'https://www.amazon.co.jp/gp/help/customer/display.html?nodeId=202024820', 'https://www.amazon.co.jp/b?ie=UTF8&node=3485873051', 'https://www.amazon.co.jp/gp/pantry/info/pantrypromotion/ref=as_li_ss_tl?ie=UTF8&linkCode=sl2&tag=ajiro05-22&linkId=c0ebc10138e2fcdb36af1641cb4b3b68', 'https://www.amazon.co.jp/gp/help/customer/display.html?nodeId=201890280', 'https://yodokikaku.net/?p=24564', 'http://www.phileweb.com/news/d-av/202001/22/49540.html', 'https://amazon-press.jp/Prime/Prime/Press-release/amazon/jp/Prime/AmazonFresh/20190912-AmazonFresh/', 'https://www.itmedia.co.jp/news/articles/1909/17/news089.html', 'https://www.ryutsuu.biz/ec/l091247.html', 'https://www.mondaisaku.com/entry/amazonpantry', 'https://ascii.jp/elem/000/004/007/4007256/', 'https://t011.org/internet/vod/154456.html', 'https://www.amazon.fr/%E6%97%A5%E9%AB%98%E5%B1%8B%E3%81%A0%E3%81%8B%E3%82%89%E3%80%8C%E3%81%B2%E3%81%A8%E3%80%8D%E3%82%92%E5%AD%A6%E3%81%B9%E3%81%9F-%E4%B8%80%E6%9D%AF390%E5%86%86%E3%83%A9%E3%83%BC%E3%83%A1%E3%83%B3%E3%81%8B%E3%82%89%E5%AD%A6%E3%82%93%E3%81%A0%E3%81%93%E3%81%A8-Japanese-%E6%9D%BE%E8%8C%82%E8%89%AF-ebook/dp/B07MKJLJ34', 'http://shimajiro-mobiler.net/2020/04/07/post66394/', 'http://shimajiro-mobiler.net/2020/03/20/post66131/', 'https://okane-blog.com/amazon-pantry/', 'https://movie.enjoy-retirement.com/amazon_pantry_campaign_fire_tv_stick_4k/', 'https://www.amazon.in/%E6%97%A5%E9%AB%98%E5%B1%8B%E3%81%A0%E3%81%8B%E3%82%89%E3%80%8C%E3%81%B2%E3%81%A8%E3%80%8D%E3%82%92%E5%AD%A6%E3%81%B9%E3%81%9F-%E4%B8%80%E6%9D%AF390%E5%86%86%E3%83%A9%E3%83%BC%E3%83%A1%E3%83%B3%E3%81%8B%E3%82%89%E5%AD%A6%E3%82%93%E3%81%A0%E3%81%93%E3%81%A8-Japanese-%E6%9D%BE%E8%8C%82%E8%89%AF-ebook/dp/B07MKJLJ34', 'https://ultimate-setsuko.com/setsuyaku/amazon-pantry/', 'https://search.rakuten.co.jp/search/mall/%E3%82%B5%E3%83%B3%E3%82%AD%E3%83%A5%E3%83%BC%E3%83%9E%E3%83%BC%E3%83%88+390%E5%86%86/', 'https://shaun-evans-jpn.com/news/2020/01/endeavour-distributed-on-amazon-prime-video-cinefil-wowow.html', 'https://www.390yen.jp/39shop/', 'https://boxil.jp/beyond/a5282/', 'https://tuhan-jyoho.com/2511.html', 'https://join.biglobe.ne.jp/mobile/sim/gurashi/amazon_pantry/', 'https://headlines.yahoo.co.jp/article?a=20200412-00287768-bizspa-life', 'https://www.attack.work/entry/amazon-pantry', 'https://www.watch.impress.co.jp/docs/news/1206986.html', 'https://chasuke.com/amazonprime/', 'https://www.ookamasashi.com/amazonpantry', 'https://getnavi.jp/life/479239/', 'https://shu-kan.com/amazon_prime_video_nhk/', 'https://www.smbc-card.com/nyukai/affiliate/amazon/index.jsp', 'https://gentosha-go.com/articles/-/24946', 'https://kaitoribob.com/wp/amazon-shopping/amazon%E3%83%95%E3%83%AC%E3%83%83%E3%82%B7%E3%83%A5%E3%81%AE%E9%85%8D%E9%80%81%E6%96%99%E3%82%92%E5%AE%9F%E8%B3%AA%E7%84%A1%E6%96%99%E3%81%AB%E3%81%99%E3%82%8B%E6%96%B9%E6%B3%95%E3%81%A8%E3%81%8A/', 'https://giftissue.com/ja/blog/article/110/', 'https://rokuga-vod.com/amazon-prime-vide-channel/']\n",
      "           SearchTerm Ranking  Total           TargetSite  \\\n",
      "0  opencv ラズパイ インストール     [4]      1          ymgsapo.com   \n",
      "1  opencv ラズパイ インストール  [1, 2]      2            qiita.com   \n",
      "2      python 画像　切り取り     [6]      1          ymgsapo.com   \n",
      "3  opencv ラズパイ インストール     [4]      1          ymgsapo.com   \n",
      "4              python      []      0          ymgsapo.com   \n",
      "5         最初に表示される文字列      []      0  https://ymgsapo.com   \n",
      "6         amazon 390円     [2]      1  https://ymgsapo.com   \n",
      "7         amazon 390円     [2]      1          ymgsapo.com   \n",
      "8         amazon 390円     [2]      1          ymgsapo.com   \n",
      "\n",
      "                        Date  \n",
      "0                        NaT  \n",
      "1                        NaT  \n",
      "2                        NaT  \n",
      "3 2020-05-08 21:15:00.270539  \n",
      "4 2020-05-08 21:17:53.730877  \n",
      "5 2020-05-08 21:29:50.135035  \n",
      "6 2020-05-08 21:30:18.164082  \n",
      "7 2020-05-08 21:32:09.705986  \n",
      "8 2020-05-08 21:33:10.946544  \n"
     ]
    }
   ],
   "source": [
    "query = 'amazon 390円'\n",
    "\n",
    "search_term(query,target_site_domain,file_name)"
   ]
  },
  {
   "cell_type": "code",
   "execution_count": null,
   "metadata": {},
   "outputs": [],
   "source": []
  }
 ],
 "metadata": {
  "kernelspec": {
   "display_name": "Python 3",
   "language": "python",
   "name": "python3"
  },
  "language_info": {
   "codemirror_mode": {
    "name": "ipython",
    "version": 3
   },
   "file_extension": ".py",
   "mimetype": "text/x-python",
   "name": "python",
   "nbconvert_exporter": "python",
   "pygments_lexer": "ipython3",
   "version": "3.7.6"
  }
 },
 "nbformat": 4,
 "nbformat_minor": 4
}
