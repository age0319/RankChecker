{
 "cells": [
  {
   "cell_type": "code",
   "execution_count": 14,
   "metadata": {},
   "outputs": [],
   "source": [
    "import tkinter as tk\n",
    "\n",
    "class MainWindow():\n",
    "    counter = 0\n",
    "    def __init__(self):\n",
    "        self.root = tk.Tk()\n",
    "        self.root.title(\"Test\")\n",
    "        \n",
    "        button = tk.Button(self.root, text=\"Create new window\", \n",
    "                                command=self.create_window)\n",
    "        button.pack(side=\"top\")\n",
    "\n",
    "        self.root.mainloop()\n",
    "        \n",
    "    def create_window(self):\n",
    "        self.counter += 1\n",
    "        \n",
    "        t = tk.Toplevel(self.root)\n",
    "        t.wm_title(\"Create Window\")\n",
    "        \n",
    "        l = tk.Label(t, text=\"This is window #%s\" % self.counter)\n",
    "        l.pack(side=\"top\", fill=\"both\", expand=True, padx=100, pady=100)\n",
    "\n",
    "if __name__ == \"__main__\":\n",
    "        MainWindow()"
   ]
  },
  {
   "cell_type": "code",
   "execution_count": null,
   "metadata": {},
   "outputs": [],
   "source": []
  }
 ],
 "metadata": {
  "kernelspec": {
   "display_name": "Python 3",
   "language": "python",
   "name": "python3"
  },
  "language_info": {
   "codemirror_mode": {
    "name": "ipython",
    "version": 3
   },
   "file_extension": ".py",
   "mimetype": "text/x-python",
   "name": "python",
   "nbconvert_exporter": "python",
   "pygments_lexer": "ipython3",
   "version": "3.7.6"
  }
 },
 "nbformat": 4,
 "nbformat_minor": 4
}
