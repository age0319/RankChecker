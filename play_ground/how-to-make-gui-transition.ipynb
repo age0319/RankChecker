{
 "cells": [
  {
   "cell_type": "code",
   "execution_count": 2,
   "metadata": {},
   "outputs": [],
   "source": [
    "import tkinter as tk\n",
    "\n",
    "class MainWindow(tk.Frame):\n",
    "    counter = 0\n",
    "    def __init__(self, *args, **kwargs):\n",
    "        tk.Frame.__init__(self, *args, **kwargs)\n",
    "        self.button = tk.Button(self, text=\"Create new window\", \n",
    "                                command=self.create_window)\n",
    "        self.button.pack(side=\"top\")\n",
    "\n",
    "    def create_window(self):\n",
    "        self.counter += 1\n",
    "        t = tk.Toplevel(self)\n",
    "        t.wm_title(\"Window #%s\" % self.counter)\n",
    "        l = tk.Label(t, text=\"This is window #%s\" % self.counter)\n",
    "        l.pack(side=\"top\", fill=\"both\", expand=True, padx=100, pady=100)\n",
    "\n",
    "if __name__ == \"__main__\":\n",
    "    root = tk.Tk()\n",
    "    main = MainWindow(root)\n",
    "    main.pack(side=\"top\", fill=\"both\", expand=True)\n",
    "    root.mainloop()"
   ]
  },
  {
   "cell_type": "code",
   "execution_count": null,
   "metadata": {},
   "outputs": [],
   "source": []
  },
  {
   "cell_type": "code",
   "execution_count": null,
   "metadata": {},
   "outputs": [],
   "source": []
  }
 ],
 "metadata": {
  "kernelspec": {
   "display_name": "Python 3",
   "language": "python",
   "name": "python3"
  },
  "language_info": {
   "codemirror_mode": {
    "name": "ipython",
    "version": 3
   },
   "file_extension": ".py",
   "mimetype": "text/x-python",
   "name": "python",
   "nbconvert_exporter": "python",
   "pygments_lexer": "ipython3",
   "version": "3.7.6"
  }
 },
 "nbformat": 4,
 "nbformat_minor": 4
}
