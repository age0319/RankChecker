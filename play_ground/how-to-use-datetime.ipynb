{
 "cells": [
  {
   "cell_type": "code",
   "execution_count": 2,
   "metadata": {},
   "outputs": [
    {
     "name": "stdout",
     "output_type": "stream",
     "text": [
      "2020-05-11 15:40:08.962921\n",
      "2020/05/11\n",
      "2020/05/11/15:40:08\n",
      "Monday\n",
      "May\n",
      "15:40:08\n"
     ]
    }
   ],
   "source": [
    "import datetime\n",
    "\n",
    "# 現在のタイムスタンプを取得\n",
    "now = datetime.datetime.now()\n",
    "\n",
    "# タイムスタンプをそのまま出力\n",
    "print(now)\n",
    "\n",
    "# タイムスタンプから日付をYYYY/mm/ddで出力\n",
    "print(now.strftime(\"%Y/%m/%d\"))\n",
    "\n",
    "# タイムスタンプから日付をYYYY/mm/dd/時間で出力\n",
    "print(now.strftime(\"%Y/%m/%d/%X\"))\n",
    "\n",
    "# タイムスタンプから曜日名を出力\n",
    "print(now.strftime(\"%A\"))\n",
    "\n",
    "# タイムスタンプから月名を出力\n",
    "print(now.strftime(\"%B\"))\n",
    "\n",
    "# タイムスタンプから時間を出力\n",
    "print(now.strftime(\"%X\"))"
   ]
  },
  {
   "cell_type": "code",
   "execution_count": null,
   "metadata": {},
   "outputs": [],
   "source": []
  }
 ],
 "metadata": {
  "kernelspec": {
   "display_name": "Python 3",
   "language": "python",
   "name": "python3"
  },
  "language_info": {
   "codemirror_mode": {
    "name": "ipython",
    "version": 3
   },
   "file_extension": ".py",
   "mimetype": "text/x-python",
   "name": "python",
   "nbconvert_exporter": "python",
   "pygments_lexer": "ipython3",
   "version": "3.7.6"
  }
 },
 "nbformat": 4,
 "nbformat_minor": 4
}
